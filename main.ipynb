{
 "cells": [
  {
   "cell_type": "code",
   "execution_count": 2,
   "metadata": {},
   "outputs": [
    {
     "name": "stderr",
     "output_type": "stream",
     "text": [
      "C:\\Users\\aksha\\AppData\\Local\\Continuum\\anaconda3\\lib\\site-packages\\h5py\\__init__.py:36: FutureWarning: Conversion of the second argument of issubdtype from `float` to `np.floating` is deprecated. In future, it will be treated as `np.float64 == np.dtype(float).type`.\n",
      "  from ._conv import register_converters as _register_converters\n",
      "Using TensorFlow backend.\n"
     ]
    }
   ],
   "source": [
    "from keras.datasets import mnist\n",
    "import numpy as np\n",
    "np.random.seed(10)\n",
    "from time import time\n",
    "import numpy as np\n",
    "import keras.backend as K\n",
    "from keras.engine.topology import Layer, InputSpec\n",
    "from keras.layers import Dense, Input\n",
    "from keras.models import Model\n",
    "from keras.optimizers import SGD\n",
    "from keras import callbacks\n",
    "from keras.initializers import VarianceScaling\n",
    "from sklearn.cluster import KMeans\n",
    "from sklearn import metrics\n",
    "import util_mnist_reader\n",
    "import metrics"
   ]
  },
  {
   "cell_type": "code",
   "execution_count": 1,
   "metadata": {},
   "outputs": [
    {
     "name": "stderr",
     "output_type": "stream",
     "text": [
      "C:\\Users\\aksha\\AppData\\Local\\Continuum\\anaconda3\\lib\\site-packages\\h5py\\__init__.py:36: FutureWarning: Conversion of the second argument of issubdtype from `float` to `np.floating` is deprecated. In future, it will be treated as `np.float64 == np.dtype(float).type`.\n",
      "  from ._conv import register_converters as _register_converters\n",
      "Using TensorFlow backend.\n"
     ]
    },
    {
     "name": "stdout",
     "output_type": "stream",
     "text": [
      "(70000, 28, 28)\n",
      "[9 0 5 6 1 4 7 4 5 5 0 9 7 7 7 9 1 0 4 5]\n",
      "[9 0 0 3 0 2 7 2 5 5 0 9 5 5 7 9 1 0 6 4]\n",
      "Homogeneity: 0.500712010096657\n",
      "Inertia: 1975327.3818216498\n",
      "Number of Clusters: 10\n",
      "KMeans Accuracy: 0.5052333333333333\n",
      "\n"
     ]
    }
   ],
   "source": [
    "#K-Means\n",
    "import sklearn\n",
    "from sklearn.cluster import MiniBatchKMeans\n",
    "import sys\n",
    "import tensorflow as tf\n",
    "import numpy as np\n",
    "from sklearn.cluster import KMeans\n",
    "from sklearn.metrics import accuracy_score, confusion_matrix, normalized_mutual_info_score\n",
    "from keras.datasets import mnist\n",
    "\n",
    "import numpy as np\n",
    "import os\n",
    "import matplotlib.pyplot as plt\n",
    "from sklearn.model_selection import train_test_split\n",
    "from sklearn.metrics import classification_report\n",
    "import keras\n",
    "from keras.models import Sequential\n",
    "from keras.layers import Dense, Dropout, Conv2D, MaxPool2D, UpSampling2D, Activation\n",
    "from keras import backend as K\n",
    "(x_train, y_train),(x_test, y_test)=tf.keras.datasets.fashion_mnist.load_data()\n",
    "x=np.concatenate((x_train, x_test))\n",
    "y=np.concatenate((y_train, y_test))\n",
    "print(x.shape)\n",
    "x=x_train.reshape((x_train.shape[0],-1))\n",
    "x=np.divide(x.astype(float),255)\n",
    "kmeans = KMeans(n_clusters = 10)\n",
    "kmeans.fit(x)\n",
    "def infer_cluster_labels(kmeans, actual_labels):\n",
    "    inferred_labels = {}\n",
    "    for i in range(kmeans.n_clusters):\n",
    "        labels = []\n",
    "        index = np.where(kmeans.labels_ == i)\n",
    "        labels.append(actual_labels[index])\n",
    "        if len(labels[0]) == 1:\n",
    "            counts = np.bincount(labels[0])\n",
    "        else:\n",
    "            counts = np.bincount(np.squeeze(labels))\n",
    "        if np.argmax(counts) in inferred_labels:\n",
    "            inferred_labels[np.argmax(counts)].append(i)\n",
    "        else:\n",
    "            inferred_labels[np.argmax(counts)] = [i]      \n",
    "    return inferred_labels  \n",
    "def infer_data_labels(X_labels, cluster_labels):\n",
    "    predicted_labels = np.zeros(len(X_labels)).astype(np.uint8)    \n",
    "    for i, cluster in enumerate(X_labels):\n",
    "        for key, value in cluster_labels.items():\n",
    "            if cluster in value:\n",
    "                predicted_labels[i] = key\n",
    "                \n",
    "    return predicted_labels\n",
    "n_clusters=10\n",
    "cluster_labels = infer_cluster_labels(kmeans, y_train)\n",
    "X_clusters = kmeans.predict(x)\n",
    "predicted_labels = infer_data_labels(X_clusters, cluster_labels)\n",
    "print(predicted_labels[:20])\n",
    "print(y_train[:20])\n",
    "from sklearn import metrics\n",
    "\n",
    "def calculate_metrics(estimator, data, labels):   \n",
    "    print('Homogeneity: {}'.format(metrics.homogeneity_score(labels, estimator.labels_)))\n",
    "    print('Inertia: {}'.format(estimator.inertia_))\n",
    "    print('Number of Clusters: {}'.format(estimator.n_clusters))\n",
    "    \n",
    "    \n",
    "clusters = [10]\n",
    "for n_clusters in clusters:\n",
    "    estimator = MiniBatchKMeans(n_clusters = n_clusters)\n",
    "    estimator.fit(x)\n",
    "    calculate_metrics(estimator, x, y_train)\n",
    "    cluster_labels = infer_cluster_labels(estimator, y_train)\n",
    "    predicted_Y = infer_data_labels(estimator.labels_, cluster_labels)\n",
    "    print('KMeans Accuracy: {}\\n'.format(metrics.accuracy_score(y_train, predicted_Y)))"
   ]
  },
  {
   "cell_type": "code",
   "execution_count": 43,
   "metadata": {},
   "outputs": [],
   "source": [
    "#Normalizing\n",
    "x_train=x_train.reshape(-1,28,28,1)/255\n",
    "x_test=x_test.reshape(-1,28,28,1)/255\n",
    "x_train, x_validate, y_train, y_validate = train_test_split(x_train, y_train, test_size=0.2, stratify=y_train, random_state=123)"
   ]
  },
  {
   "cell_type": "code",
   "execution_count": 44,
   "metadata": {},
   "outputs": [
    {
     "name": "stdout",
     "output_type": "stream",
     "text": [
      "Model: \"sequential_5\"\n",
      "_________________________________________________________________\n",
      "Layer (type)                 Output Shape              Param #   \n",
      "=================================================================\n",
      "conv2d_12 (Conv2D)           (None, 28, 28, 14)        140       \n",
      "_________________________________________________________________\n",
      "max_pooling2d_5 (MaxPooling2 (None, 14, 14, 14)        0         \n",
      "_________________________________________________________________\n",
      "dropout_9 (Dropout)          (None, 14, 14, 14)        0         \n",
      "_________________________________________________________________\n",
      "conv2d_13 (Conv2D)           (None, 14, 14, 7)         889       \n",
      "_________________________________________________________________\n",
      "max_pooling2d_6 (MaxPooling2 (None, 7, 7, 7)           0         \n",
      "_________________________________________________________________\n",
      "dropout_10 (Dropout)         (None, 7, 7, 7)           0         \n",
      "_________________________________________________________________\n",
      "conv2d_14 (Conv2D)           (None, 7, 7, 7)           448       \n",
      "_________________________________________________________________\n",
      "up_sampling2d_5 (UpSampling2 (None, 14, 14, 7)         0         \n",
      "_________________________________________________________________\n",
      "dropout_11 (Dropout)         (None, 14, 14, 7)         0         \n",
      "_________________________________________________________________\n",
      "conv2d_15 (Conv2D)           (None, 14, 14, 14)        896       \n",
      "_________________________________________________________________\n",
      "up_sampling2d_6 (UpSampling2 (None, 28, 28, 14)        0         \n",
      "_________________________________________________________________\n",
      "dropout_12 (Dropout)         (None, 28, 28, 14)        0         \n",
      "_________________________________________________________________\n",
      "conv2d_16 (Conv2D)           (None, 28, 28, 1)         127       \n",
      "=================================================================\n",
      "Total params: 2,500\n",
      "Trainable params: 2,500\n",
      "Non-trainable params: 0\n",
      "_________________________________________________________________\n"
     ]
    }
   ],
   "source": [
    "#Auto Encoder using K-Means clustering\n",
    "from keras.layers import Input, Dense\n",
    "from keras.models import Model\n",
    "from keras.optimizers import SGD\n",
    "model = Sequential()\n",
    "model.add(Conv2D(14, kernel_size=3, padding='same', activation='relu', input_shape=(28,28,1)))\n",
    "model.add(MaxPool2D((2,2), padding='same'))\n",
    "model.add(Dropout(0.2))\n",
    "model.add(Conv2D(7, kernel_size=3, padding='same', activation='relu'))\n",
    "model.add(MaxPool2D((2,2), padding='same'))\n",
    "model.add(Dropout(0.2))\n",
    "model.add(Conv2D(7, kernel_size=3, padding='same', activation='relu'))\n",
    "model.add(UpSampling2D((2,2)))\n",
    "model.add(Dropout(0.2))\n",
    "model.add(Conv2D(14, kernel_size=3, padding='same', activation='relu'))\n",
    "model.add(UpSampling2D((2,2)))\n",
    "model.add(Dropout(0.2))\n",
    "model.add(Conv2D(1, kernel_size=3, padding='same', activation='relu'))\n",
    "model.compile(optimizer=SGD(0.01,0.9), loss=\"mse\", metrics=['accuracy'])\n",
    "model.summary()"
   ]
  },
  {
   "cell_type": "code",
   "execution_count": 45,
   "metadata": {},
   "outputs": [
    {
     "name": "stdout",
     "output_type": "stream",
     "text": [
      "Train on 48000 samples, validate on 12000 samples\n",
      "Epoch 1/10\n",
      "48000/48000 [==============================] - 95s 2ms/step - loss: 0.0573 - accuracy: 0.4958 - val_loss: 0.0625 - val_accuracy: 0.5018\n",
      "Epoch 2/10\n",
      "48000/48000 [==============================] - 97s 2ms/step - loss: 0.0452 - accuracy: 0.5001 - val_loss: 0.0498 - val_accuracy: 0.5025\n",
      "Epoch 3/10\n",
      "48000/48000 [==============================] - 78s 2ms/step - loss: 0.0410 - accuracy: 0.5011 - val_loss: 0.0420 - val_accuracy: 0.5034\n",
      "Epoch 4/10\n",
      "48000/48000 [==============================] - 59s 1ms/step - loss: 0.0383 - accuracy: 0.5014 - val_loss: 0.0389 - val_accuracy: 0.5039\n",
      "Epoch 5/10\n",
      "48000/48000 [==============================] - 66s 1ms/step - loss: 0.0362 - accuracy: 0.5015 - val_loss: 0.0361 - val_accuracy: 0.5044\n",
      "Epoch 6/10\n",
      "48000/48000 [==============================] - 66s 1ms/step - loss: 0.0346 - accuracy: 0.5016 - val_loss: 0.0341 - val_accuracy: 0.5047\n",
      "Epoch 7/10\n",
      "48000/48000 [==============================] - 64s 1ms/step - loss: 0.0334 - accuracy: 0.5017 - val_loss: 0.0312 - val_accuracy: 0.5050\n",
      "Epoch 8/10\n",
      "48000/48000 [==============================] - 65s 1ms/step - loss: 0.0324 - accuracy: 0.5019 - val_loss: 0.0306 - val_accuracy: 0.5051\n",
      "Epoch 9/10\n",
      "48000/48000 [==============================] - 65s 1ms/step - loss: 0.0316 - accuracy: 0.5020 - val_loss: 0.0291 - val_accuracy: 0.5051\n",
      "Epoch 10/10\n",
      "48000/48000 [==============================] - 62s 1ms/step - loss: 0.0310 - accuracy: 0.5021 - val_loss: 0.0283 - val_accuracy: 0.5051\n"
     ]
    }
   ],
   "source": [
    "history_AE=model.fit(x_train, x_train, epochs=10, batch_size=256, validation_data=(x_validate, x_validate), verbose=1)"
   ]
  },
  {
   "cell_type": "code",
   "execution_count": 46,
   "metadata": {},
   "outputs": [
    {
     "data": {
      "image/png": "[encoded data removed]",
      "text/plain": [
       "<Figure size 432x288 with 1 Axes>"
      ]
     },
     "metadata": {},
     "output_type": "display_data"
    }
   ],
   "source": [
    "def lossPlot():\n",
    "    trainingLoss,=plt.plot(history_AE.history['loss'],\"r--\")\n",
    "    validationLoss,=plt.plot(history_AE.history['val_loss'],\"b--\")\n",
    "    q=plt.legend([trainingLoss,validationLoss],[\"Training Loss\",\"Validation Loss\"])\n",
    "    plt.xlabel(\"Epoch\")\n",
    "    plt.ylabel(\"Loss\")\n",
    "    plt.title(\"Training Loss & Validation Loss vs Number of Epochs Graph\")\n",
    "    plt.show()\n",
    "lossPlot()"
   ]
  },
  {
   "cell_type": "code",
   "execution_count": 48,
   "metadata": {},
   "outputs": [
    {
     "name": "stdout",
     "output_type": "stream",
     "text": [
      "[[  1 300  66  54   0   4 562   9   4   0]\n",
      " [  0  21 930  13   0   0  34   2   0   0]\n",
      " [  0 393   3 587   0   4  11   0   2   0]\n",
      " [  0 127 620  16   0   2 216  13   6   0]\n",
      " [  0 182  38 674   0   5  88   2  11   0]\n",
      " [489   4   0   0  48   0   0 436   0  23]\n",
      " [  1 454  35 325   0  16 160   6   3   0]\n",
      " [789   0   0   0 188   0   0  21   0   2]\n",
      " [ 27  61  16  57   4 382   3  51 398   1]\n",
      " [ 15   0   0   0 542   1   1  57   0 384]]\n"
     ]
    }
   ],
   "source": [
    "encoder = K.function([model.layers[0].input], [model.layers[4].output])\n",
    "encoded_images = encoder([x_test])[0].reshape(-1,7*7*7)\n",
    "kmeans_afterencoder_AE = KMeans(n_clusters=10)\n",
    "clustered_set_AE = kmeans_afterencoder_AE.fit_predict(encoded_images)\n",
    "cmKMeans = confusion_matrix(y_test, clustered_set_AE)\n",
    "print(cmKMeans)"
   ]
  },
  {
   "cell_type": "code",
   "execution_count": 49,
   "metadata": {},
   "outputs": [
    {
     "name": "stdout",
     "output_type": "stream",
     "text": [
      "Number of Clusters: 10\n",
      "Inertia: 3926.7046618957893\n",
      "Homogeneity: 0.5027222676526181\n",
      "Auto Encoder using K-Means clustering Accuracy: 0.5177\n",
      "\n"
     ]
    }
   ],
   "source": [
    "kmeans_afterencoder_AE.fit(encoded_images)\n",
    "calculate_metrics(kmeans_afterencoder_AE, encoded_images, y_test)\n",
    "cluster_labels_AE = infer_cluster_labels(kmeans_afterencoder_AE, y_test)\n",
    "predicted_Y_AE = infer_data_labels(kmeans_afterencoder_AE.labels_, cluster_labels_AE)\n",
    "print('Auto Encoder using K-Means clustering Accuracy: {}\\n'.format(metrics.accuracy_score(y_test, predicted_Y_AE)))"
   ]
  },
  {
   "cell_type": "code",
   "execution_count": 50,
   "metadata": {},
   "outputs": [],
   "source": [
    "#Gaussian Mixture Model\n",
    "from sklearn.mixture import GaussianMixture\n",
    "gmm = GaussianMixture(n_components=10)\n",
    "gmm.fit(encoded_images)\n",
    "labelsGMM=gmm.predict(encoded_images)"
   ]
  },
  {
   "cell_type": "code",
   "execution_count": 51,
   "metadata": {},
   "outputs": [],
   "source": [
    "def infer_cluster_labels_GMM(gmm, actual_labels):\n",
    "    inferred_labels = {}\n",
    "    for i in range(gmm.n_components):\n",
    "        labels = []\n",
    "        index = np.where(labelsGMM == i)\n",
    "        labels.append(actual_labels[index])\n",
    "        if len(labels[0]) == 1:\n",
    "            counts = np.bincount(labels[0])\n",
    "        else:\n",
    "            counts = np.bincount(np.squeeze(labels))\n",
    "        if np.argmax(counts) in inferred_labels:\n",
    "            inferred_labels[np.argmax(counts)].append(i)\n",
    "        else:\n",
    "            inferred_labels[np.argmax(counts)] = [i]\n",
    "    return inferred_labels  \n",
    "def infer_data_labels_GMM(X_labels, cluster_labels):\n",
    "    predicted_labels = np.zeros(len(X_labels)).astype(np.uint8)    \n",
    "    for i, cluster in enumerate(X_labels):\n",
    "        for key, value in cluster_labels.items():\n",
    "            if cluster in value:\n",
    "                predicted_labels[i] = key                \n",
    "    return predicted_labels"
   ]
  },
  {
   "cell_type": "code",
   "execution_count": 52,
   "metadata": {},
   "outputs": [
    {
     "name": "stdout",
     "output_type": "stream",
     "text": [
      "GMM Clustering Accuracy: 0.5279\n",
      "\n"
     ]
    }
   ],
   "source": [
    "cluster_labels_GMM = infer_cluster_labels_GMM(gmm, y_test)\n",
    "predicted_Y_GMM = infer_data_labels_GMM(labelsGMM, cluster_labels_GMM)\n",
    "print('Gaussian Mixture Model Clustering Accuracy: {}\\n'.format(metrics.accuracy_score(y_test, predicted_Y_GMM)))"
   ]
  },
  {
   "cell_type": "code",
   "execution_count": 55,
   "metadata": {},
   "outputs": [
    {
     "name": "stdout",
     "output_type": "stream",
     "text": [
      "[[202  48   2  80   1 592  42   3   0  30]\n",
      " [ 17   9   0  59   0   3  14   0   0 898]\n",
      " [ 37 652   1  39   0   8 258   2   0   3]\n",
      " [112  17   0 436   0  30  25   1   0 379]\n",
      " [ 28 658   1 190   0   5 107   5   0   6]\n",
      " [ 20   0  56   0 821   0   8   0  95   0]\n",
      " [147 368   3  95   1 131 243   3   0   9]\n",
      " [  0   0  78   0 919   0   0   0   3   0]\n",
      " [ 40  71 357   9  14   1  87 419   1   1]\n",
      " [  0   0 465   2  98   0   3   0 432   0]]\n"
     ]
    }
   ],
   "source": [
    "confusionmatrix_GMM = confusion_matrix(y_test, labelsGMM)\n",
    "print(confusionmatrix_GMM)"
   ]
  }
 ],
 "metadata": {
  "kernelspec": {
   "display_name": "Python 3",
   "language": "python",
   "name": "python3"
  },
  "language_info": {
   "codemirror_mode": {
    "name": "ipython",
    "version": 3
   },
   "file_extension": ".py",
   "mimetype": "text/x-python",
   "name": "python",
   "nbconvert_exporter": "python",
   "pygments_lexer": "ipython3",
   "version": "3.6.5"
  }
 },
 "nbformat": 4,
 "nbformat_minor": 2
}
